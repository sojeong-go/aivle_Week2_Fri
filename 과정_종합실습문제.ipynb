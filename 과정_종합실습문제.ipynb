{
 "cells": [
  {
   "cell_type": "markdown",
   "id": "fa88b1f4",
   "metadata": {
    "id": "710ee378"
   },
   "source": [
    "# 종합실습"
   ]
  },
  {
   "cell_type": "markdown",
   "id": "7ae4c484",
   "metadata": {
    "id": "e30eb3da"
   },
   "source": [
    "## 과제1. 회원 관리 프로그램"
   ]
  },
  {
   "cell_type": "markdown",
   "id": "5d692611",
   "metadata": {
    "id": "8e48b532"
   },
   "source": [
    "* 회원 이름과 이메일 주소를 입력받아 엑셀에 저장하는 프로그램을 만드시오.\n",
    "* 'members.xlsx’ 파일에는 이미 두명의 회원이 등록되어 있습니다. \n",
    "\n",
    "* 기본 기능  \n",
    "> * 이름, 이메일, 전화번호를 입력 받아 (한꺼번에 입력받아, 리스트로 만들어 처리. .split 활용)\n",
    "> * 엑셀 틀에 맞게 제일 마지막 행에 저장\n",
    "> * 단, 이메일 주소는 실제 메일 수신 가능해야 합니다.\n",
    "\n",
    "* 심화 기능\n",
    "> * 입력값 확인. 값이 3개,  쉼표로 구분된 값인지 확인.\n",
    "> * 회원 가입을 계속할지, 종료할지를 묻기"
   ]
  },
  {
   "cell_type": "code",
   "execution_count": 20,
   "id": "226d4856",
   "metadata": {
    "id": "5bcbadaf",
    "scrolled": true
   },
   "outputs": [
    {
     "name": "stdout",
     "output_type": "stream",
     "text": [
      "회원 가입을 계속 하시면 1, 종료 하시려면 2 을 입력해주세요.\n",
      "1\n",
      "이름, 이메일, 전화번호 입력해주세요\n",
      "고소정,thwjd5580@naver.com,16564\n",
      "회원 가입을 계속 하시면 1, 종료 하시려면 2 을 입력해주세요.\n",
      "2\n",
      "종료\n"
     ]
    }
   ],
   "source": [
    "import openpyxl as xl\n",
    "\n",
    "while True :\n",
    "    print(\"회원 가입을 계속 하시면 1, 종료 하시려면 2 을 입력해주세요.\")\n",
    "    a = input()\n",
    "    if a == '2':\n",
    "        print(\"종료\")\n",
    "        break\n",
    "    else :\n",
    "        print('이름, 이메일, 전화번호 입력해주세요')\n",
    "        ex = input()\n",
    "        list1 =ex.split(',')\n",
    "        if len(list1) != 3:\n",
    "            print('잘못 입력함')\n",
    "        else:\n",
    "            wb = xl.load_workbook('members.xlsx')\n",
    "            s1 = wb['Sheet1']\n",
    "            \n",
    "            insert_row = s1.max_row + 1\n",
    "            \n",
    "            s1.cell(insert_row,1).value = list1[0].strip()\n",
    "            s1.cell(insert_row,2).value = list1[1].strip()\n",
    "            s1.cell(insert_row,3).value = list1[2].strip()\n",
    "            \n",
    "            wb.save('members.xlsx')"
   ]
  },
  {
   "cell_type": "code",
   "execution_count": null,
   "id": "42b24043",
   "metadata": {},
   "outputs": [],
   "source": []
  },
  {
   "cell_type": "markdown",
   "id": "c5a55fd2",
   "metadata": {
    "id": "8f3a1740"
   },
   "source": [
    "## 과제2. 회원들에게 이메일 발송"
   ]
  },
  {
   "cell_type": "markdown",
   "id": "74254f6b",
   "metadata": {
    "id": "7840678c"
   },
   "source": [
    "* 과제1에서 저장된 회원정보(members.xlsx)를 읽어서 회원 각각에게 이메일을 보내 봅시다.\n",
    "\n",
    "> * 제목 : “2021년 송년 인사”\n",
    "> * 내용 :  \n",
    ">     OOO 회원님 안녕하세요?  \n",
    "벌써 2021년도 저물어 가고 있습니다.  \n",
    "올 한해 정말 수고 많았습니다.   \n",
    "첨부한 커피 쿠폰으로 조금이나마 따뜻한 연말을 보내시기 바랍니다.  \n",
    "감사합니다. \n",
    "\n",
    "> * 회원마다 보내지는 이메일에서 각자 달라지는 것은,\t수신 이메일 주소, 메일 내용에서의 회원 이름 입니다."
   ]
  },
  {
   "cell_type": "code",
   "execution_count": 21,
   "id": "87c3c0f5",
   "metadata": {
    "id": "5c5a29a9"
   },
   "outputs": [
    {
     "data": {
      "text/plain": [
       "(221, b'2.0.0 closing connection l6sm6251657pfu.63 - gsmtp')"
      ]
     },
     "execution_count": 21,
     "metadata": {},
     "output_type": "execute_result"
    }
   ],
   "source": [
    "import smtplib\n",
    "from email.mime.text import MIMEText\n",
    "\n",
    "wb = xl.load_workbook(\"members.xlsx\")\n",
    "s1 = wb['Sheet1']\n",
    "\n",
    "app_pw = 'etczbkfqhfnrwpyu'\n",
    "my_email = 'gosojung48@gmail.com'\n",
    "\n",
    "s = smtplib.SMTP('smtp.gmail.com', 587)\n",
    "s.starttls()\n",
    "s.login(my_email, app_pw)\n",
    "for i in range(2, s1.max_row + 1) :\n",
    "    name = s1.cell(i,1).value\n",
    "    to_email = s1.cell(i,2).value\n",
    "    \n",
    "    msg = MIMEText(f'''{name} 회원님 안녕하세요?\n",
    "    벌써 2021년도 저물어 가고 있습니다.\n",
    "    올 한해 정말 수고 많았습니다.\n",
    "    첨부한 커피쿠폰으로 조금이나마 따뜻한 연말을 보내시기 바랍니다.\n",
    "    감사합니다.''')\n",
    "    msg['Subject'] = '2021년 송년 인사'\n",
    "    \n",
    "    s.sendmail(my_email, to_email, msg.as_string())\n",
    "    \n",
    "s.quit()\n",
    "\n",
    "\n"
   ]
  }
 ],
 "metadata": {
  "colab": {
   "collapsed_sections": [],
   "name": "과정_종합실습문제.ipynb",
   "provenance": []
  },
  "kernelspec": {
   "display_name": "Python 3",
   "language": "python",
   "name": "python3"
  },
  "language_info": {
   "codemirror_mode": {
    "name": "ipython",
    "version": 3
   },
   "file_extension": ".py",
   "mimetype": "text/x-python",
   "name": "python",
   "nbconvert_exporter": "python",
   "pygments_lexer": "ipython3",
   "version": "3.8.8"
  }
 },
 "nbformat": 4,
 "nbformat_minor": 5
}
